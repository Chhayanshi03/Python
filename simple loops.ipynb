{
 "cells": [
  {
   "cell_type": "markdown",
   "id": "a46e255b",
   "metadata": {},
   "source": [
    "Q1. Program to accept percentage criteria"
   ]
  },
  {
   "cell_type": "code",
   "execution_count": 1,
   "id": "5e283007",
   "metadata": {},
   "outputs": [
    {
     "name": "stdout",
     "output_type": "stream",
     "text": [
      "Enter your marks: 87\n",
      "Grade B\n"
     ]
    }
   ],
   "source": [
    "n= int(input(\"Enter your marks: \"))\n",
    "\n",
    "if n>90:\n",
    "    print(\"Grade A\")\n",
    "elif 80<n<=90:\n",
    "    print(\"Grade B\")\n",
    "elif n>=60 and n<= 80:\n",
    "    print(\"Grade C\")\n",
    "else:\n",
    "    print(\"Grade D\")"
   ]
  },
  {
   "cell_type": "markdown",
   "id": "7c4518e7",
   "metadata": {},
   "source": [
    "Q2. Program to calculate road tax"
   ]
  },
  {
   "cell_type": "code",
   "execution_count": 2,
   "id": "853407a5",
   "metadata": {},
   "outputs": [
    {
     "name": "stdout",
     "output_type": "stream",
     "text": [
      "Enter the cost price of bike: 80000\n",
      "Your tax is:  8000.0\n"
     ]
    }
   ],
   "source": [
    "cost_price = int(input(\"Enter the cost price of bike: \"))\n",
    "\n",
    "if cost_price > 100000:\n",
    "    tax_payable = cost_price*15/100\n",
    "    print(\"Your tax is: \",tax_payable)\n",
    "elif cost_price>50000 and cost_price<=100000:\n",
    "    tax_payable = cost_price*10/100\n",
    "    print(\"Your tax is: \",tax_payable)\n",
    "elif cost_price<=50000:\n",
    "    tax_payable = cost_price*5/100\n",
    "    print(\"Your tax is: \",tax_payable)"
   ]
  },
  {
   "cell_type": "code",
   "execution_count": 3,
   "id": "e198d8b5",
   "metadata": {},
   "outputs": [
    {
     "name": "stdout",
     "output_type": "stream",
     "text": [
      "Enter your city:Jaipur\n",
      "Monument : Jal Mahal\n"
     ]
    }
   ],
   "source": [
    "city = input(\"Enter your city:\")\n",
    "\n",
    "if city == \"Delhi\":\n",
    "    print(\"Monument : Red Fort\")\n",
    "elif city == \"Agra\":\n",
    "    print(\"Monument : Taj Mahal\")\n",
    "elif city == \"Jaipur\":\n",
    "    print(\"Monument : Jal Mahal\")"
   ]
  },
  {
   "cell_type": "markdown",
   "id": "2efd3517",
   "metadata": {},
   "source": [
    "Q4. Program to check how many times a number can be divided by 3 before it is less than or equal to 10"
   ]
  },
  {
   "cell_type": "code",
   "execution_count": 4,
   "id": "053682f4",
   "metadata": {},
   "outputs": [
    {
     "name": "stdout",
     "output_type": "stream",
     "text": [
      "Enter a number: 1399\n",
      "5\n"
     ]
    }
   ],
   "source": [
    "n = int(input(\"Enter a number: \"))\n",
    "count=0\n",
    "while n>=10:\n",
    "    n = n/3\n",
    "    count +=1\n",
    "print(count)"
   ]
  },
  {
   "cell_type": "markdown",
   "id": "5be39c3e",
   "metadata": {},
   "source": [
    "Q5. Why and When to use While Loop in python coding?"
   ]
  },
  {
   "cell_type": "markdown",
   "id": "04521ec1",
   "metadata": {},
   "source": [
    "While loop is used until a conditon is true. Whenever we have to iterate a loop till a particular requirement is met, we make use of while loop.It evaluates the condition.If the condition evaluates to True, the code inside the while loop is executed.The condition is then evaluated again.This process continues until the condition is False. When condition evaluates to False, the loop stops.\n"
   ]
  },
  {
   "cell_type": "code",
   "execution_count": 5,
   "id": "720604be",
   "metadata": {},
   "outputs": [
    {
     "name": "stdout",
     "output_type": "stream",
     "text": [
      "0\n",
      "1\n",
      "2\n",
      "3\n",
      "4\n",
      "5\n",
      "6\n",
      "7\n",
      "8\n",
      "9\n",
      "10\n"
     ]
    }
   ],
   "source": [
    "# Example\n",
    "i=0\n",
    "while i<=10:\n",
    "    print(i)\n",
    "    i+=1"
   ]
  },
  {
   "cell_type": "markdown",
   "id": "94812d70",
   "metadata": {},
   "source": [
    "Q6. Use nested while loop to print patterns"
   ]
  },
  {
   "cell_type": "code",
   "execution_count": 6,
   "id": "e083b716",
   "metadata": {},
   "outputs": [
    {
     "name": "stdout",
     "output_type": "stream",
     "text": [
      "*\n",
      "**\n",
      "***\n",
      "****\n",
      "*****\n",
      "******\n",
      "*******\n",
      "********\n",
      "*********\n"
     ]
    }
   ],
   "source": [
    "# Pattern 1\n",
    "n=1\n",
    "while n<10:\n",
    "    i=0\n",
    "    while i<n:\n",
    "        print(\"*\", end=\"\")\n",
    "        i+=1\n",
    "    print(end='\\n')\n",
    "    n+=1"
   ]
  },
  {
   "cell_type": "code",
   "execution_count": 7,
   "id": "ae087a4c",
   "metadata": {},
   "outputs": [
    {
     "name": "stdout",
     "output_type": "stream",
     "text": [
      "*********\n",
      "********\n",
      "*******\n",
      "******\n",
      "*****\n",
      "****\n",
      "***\n",
      "**\n",
      "*\n"
     ]
    }
   ],
   "source": [
    "# Pattern 2\n",
    "n=1\n",
    "while n<10:\n",
    "    i=10\n",
    "    while i>n:\n",
    "        print(\"*\", end=\"\")\n",
    "        i-=1\n",
    "    print(end='\\n')\n",
    "    n+=1"
   ]
  },
  {
   "cell_type": "code",
   "execution_count": 8,
   "id": "966e942a",
   "metadata": {},
   "outputs": [
    {
     "name": "stdout",
     "output_type": "stream",
     "text": [
      "*\n",
      "**\n",
      "***\n",
      "****\n",
      "*****\n",
      "******\n",
      "*******\n",
      "********\n",
      "*********\n",
      "*********\n",
      "********\n",
      "*******\n",
      "******\n",
      "*****\n",
      "****\n",
      "***\n",
      "**\n",
      "*\n"
     ]
    }
   ],
   "source": [
    "# Pattern 3\n",
    "n=1\n",
    "while n<10:\n",
    "    i=0\n",
    "    while i<n:\n",
    "        print(\"*\", end=\"\")\n",
    "        i+=1\n",
    "    print(end='\\n')\n",
    "    n+=1\n",
    "n=1\n",
    "while n<10:\n",
    "    i=10\n",
    "    while i>n:\n",
    "        print(\"*\", end=\"\")\n",
    "        i-=1\n",
    "    print(end='\\n')\n",
    "    n+=1"
   ]
  },
  {
   "cell_type": "markdown",
   "id": "b9ec65ea",
   "metadata": {},
   "source": [
    "Q7. Reverse a while loop to display numbers from 10 to 1"
   ]
  },
  {
   "cell_type": "code",
   "execution_count": 9,
   "id": "18fc7bc0",
   "metadata": {},
   "outputs": [
    {
     "name": "stdout",
     "output_type": "stream",
     "text": [
      "10\n",
      "9\n",
      "8\n",
      "7\n",
      "6\n",
      "5\n",
      "4\n",
      "3\n",
      "2\n",
      "1\n"
     ]
    }
   ],
   "source": [
    "i =10\n",
    "while i >0:\n",
    "    print(i)\n",
    "    i-=1"
   ]
  }
 ],
 "metadata": {
  "kernelspec": {
   "display_name": "Python 3 (ipykernel)",
   "language": "python",
   "name": "python3"
  },
  "language_info": {
   "codemirror_mode": {
    "name": "ipython",
    "version": 3
   },
   "file_extension": ".py",
   "mimetype": "text/x-python",
   "name": "python",
   "nbconvert_exporter": "python",
   "pygments_lexer": "ipython3",
   "version": "3.10.9"
  }
 },
 "nbformat": 4,
 "nbformat_minor": 5
}
