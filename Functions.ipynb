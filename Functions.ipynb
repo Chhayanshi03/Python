{
 "cells": [
  {
   "cell_type": "markdown",
   "id": "91622f5a",
   "metadata": {},
   "source": [
    " Q1. Which keyword is used to create a function? Create a function to return a list of odd numbers in the\n",
    "range of 1 to 25."
   ]
  },
  {
   "cell_type": "markdown",
   "id": "0ca11746",
   "metadata": {},
   "source": [
    "def keyword is used to create a function. \n"
   ]
  },
  {
   "cell_type": "code",
   "execution_count": 1,
   "id": "0924565b",
   "metadata": {},
   "outputs": [
    {
     "name": "stdout",
     "output_type": "stream",
     "text": [
      "1\n",
      "3\n",
      "5\n",
      "7\n",
      "9\n",
      "11\n",
      "13\n",
      "15\n",
      "17\n",
      "19\n",
      "21\n",
      "23\n",
      "25\n"
     ]
    }
   ],
   "source": [
    "def odd_numbers():\n",
    "    for i in range(1,26):\n",
    "        if i%2!= 0:\n",
    "            print(i)\n",
    "\n",
    "odd_numbers()"
   ]
  },
  {
   "cell_type": "markdown",
   "id": "8907f48e",
   "metadata": {},
   "source": [
    "Q2. Why *args and **kwargs is used in some functions? Create a function each for *args and **kwargs\n",
    "to demonstrate their use."
   ]
  },
  {
   "cell_type": "markdown",
   "id": "db9b46f0",
   "metadata": {},
   "source": [
    "*args is used to take multiple arguments in the function.**kwargs is used to take argument in dictonary format"
   ]
  },
  {
   "cell_type": "code",
   "execution_count": 2,
   "id": "f4291853",
   "metadata": {},
   "outputs": [],
   "source": [
    "def new_number(*args):\n",
    "    return args\n",
    "\n",
    "def new_name(**kwargs):\n",
    "    return kwargs"
   ]
  },
  {
   "cell_type": "code",
   "execution_count": 3,
   "id": "b2a83a9d",
   "metadata": {},
   "outputs": [
    {
     "data": {
      "text/plain": [
       "(23, 45, 67, [1, 2, 3, 4], (1, 2, 3, 4))"
      ]
     },
     "execution_count": 3,
     "metadata": {},
     "output_type": "execute_result"
    }
   ],
   "source": [
    "new_number(23,45,67,[1,2,3,4],(1,2,3,4))"
   ]
  },
  {
   "cell_type": "code",
   "execution_count": 4,
   "id": "3d7fd99f",
   "metadata": {},
   "outputs": [
    {
     "data": {
      "text/plain": [
       "{'a': [1, 2, 3, 4], 'b': (12, 34, 23), 'c': {'mohan', 'priya', 'riya'}}"
      ]
     },
     "execution_count": 4,
     "metadata": {},
     "output_type": "execute_result"
    }
   ],
   "source": [
    "new_name(a = [1,2,3,4], b= (12,34,23), c= {\"riya\", \"priya\", \"mohan\"})"
   ]
  },
  {
   "cell_type": "markdown",
   "id": "7bb7f73c",
   "metadata": {},
   "source": [
    "Q3. What is an iterator in python? Name the method used to initialise the iterator object and the method\n",
    "used for iteration. Use these methods to print the first five elements of the given list [2, 4, 6, 8, 10, 12, 14,\n",
    "16, 18, 20]."
   ]
  },
  {
   "cell_type": "markdown",
   "id": "154ee53a",
   "metadata": {},
   "source": [
    "iterator is object that allow to go through all the elements in that object. iterator object is intialised by word iter() and elements can be viewed using next() keyword."
   ]
  },
  {
   "cell_type": "code",
   "execution_count": 5,
   "id": "1bb05d7d",
   "metadata": {},
   "outputs": [],
   "source": [
    "s = [2, 4, 6, 8, 10, 12, 14, 16, 18, 20]\n",
    "s1 = iter(s)"
   ]
  },
  {
   "cell_type": "code",
   "execution_count": 6,
   "id": "26b0a3d9",
   "metadata": {},
   "outputs": [
    {
     "data": {
      "text/plain": [
       "2"
      ]
     },
     "execution_count": 6,
     "metadata": {},
     "output_type": "execute_result"
    }
   ],
   "source": [
    "next(s1)"
   ]
  },
  {
   "cell_type": "code",
   "execution_count": 7,
   "id": "379c2d51",
   "metadata": {},
   "outputs": [
    {
     "data": {
      "text/plain": [
       "4"
      ]
     },
     "execution_count": 7,
     "metadata": {},
     "output_type": "execute_result"
    }
   ],
   "source": [
    "next(s1)"
   ]
  },
  {
   "cell_type": "code",
   "execution_count": 8,
   "id": "0250c445",
   "metadata": {},
   "outputs": [
    {
     "data": {
      "text/plain": [
       "6"
      ]
     },
     "execution_count": 8,
     "metadata": {},
     "output_type": "execute_result"
    }
   ],
   "source": [
    "next(s1)"
   ]
  },
  {
   "cell_type": "code",
   "execution_count": 9,
   "id": "f62daa97",
   "metadata": {},
   "outputs": [
    {
     "data": {
      "text/plain": [
       "8"
      ]
     },
     "execution_count": 9,
     "metadata": {},
     "output_type": "execute_result"
    }
   ],
   "source": [
    "next(s1)"
   ]
  },
  {
   "cell_type": "code",
   "execution_count": 10,
   "id": "66268dd8",
   "metadata": {},
   "outputs": [
    {
     "data": {
      "text/plain": [
       "10"
      ]
     },
     "execution_count": 10,
     "metadata": {},
     "output_type": "execute_result"
    }
   ],
   "source": [
    "next(s1)"
   ]
  },
  {
   "cell_type": "markdown",
   "id": "846a2a6a",
   "metadata": {},
   "source": [
    "Q4. What is a generator function in python? Why yield keyword is used? Give an example of a generator\n",
    "function."
   ]
  },
  {
   "cell_type": "markdown",
   "id": "45696fe2",
   "metadata": {},
   "source": [
    "Generator function is used to generate an iterator. yield keyword is used by generator function for generating an iterator. "
   ]
  },
  {
   "cell_type": "code",
   "execution_count": 11,
   "id": "20e420f3",
   "metadata": {},
   "outputs": [],
   "source": [
    "def even_numbers(n):\n",
    "    for i in range(0,n+1):\n",
    "        if i%2 ==0:\n",
    "            yield i"
   ]
  },
  {
   "cell_type": "code",
   "execution_count": 12,
   "id": "1ca3f9b1",
   "metadata": {},
   "outputs": [],
   "source": [
    "even = even_numbers"
   ]
  },
  {
   "cell_type": "code",
   "execution_count": 13,
   "id": "9170ee73",
   "metadata": {},
   "outputs": [
    {
     "name": "stdout",
     "output_type": "stream",
     "text": [
      "0\n",
      "2\n",
      "4\n",
      "6\n",
      "8\n",
      "10\n"
     ]
    }
   ],
   "source": [
    "for i in even(10):\n",
    "    print(i)"
   ]
  },
  {
   "cell_type": "markdown",
   "id": "df1edc8a",
   "metadata": {},
   "source": [
    "Q5. Create a generator function for prime numbers less than 1000. Use the next() method to print the\n",
    "first 20 prime numbers."
   ]
  },
  {
   "cell_type": "code",
   "execution_count": 14,
   "id": "a45d7daa",
   "metadata": {},
   "outputs": [],
   "source": [
    "def prime_numbers():\n",
    "    for i in range(2,1000):\n",
    "        if (i==2 or i==3 or i==5 or i==7 or i==11):\n",
    "            yield i\n",
    "        elif(i%2==0 or i%3==0 or i%5==0 or i%7==0 or i%11==0):\n",
    "            continue\n",
    "        else:\n",
    "            yield i"
   ]
  },
  {
   "cell_type": "code",
   "execution_count": 15,
   "id": "318bf173",
   "metadata": {},
   "outputs": [],
   "source": [
    "f = [prime for prime in prime_numbers()]\n",
    "f1=iter(f)"
   ]
  },
  {
   "cell_type": "code",
   "execution_count": 16,
   "id": "85cb0af5",
   "metadata": {},
   "outputs": [
    {
     "data": {
      "text/plain": [
       "2"
      ]
     },
     "execution_count": 16,
     "metadata": {},
     "output_type": "execute_result"
    }
   ],
   "source": [
    "next(f1)"
   ]
  },
  {
   "cell_type": "code",
   "execution_count": 17,
   "id": "0cf4c4ff",
   "metadata": {},
   "outputs": [
    {
     "data": {
      "text/plain": [
       "3"
      ]
     },
     "execution_count": 17,
     "metadata": {},
     "output_type": "execute_result"
    }
   ],
   "source": [
    "next(f1)"
   ]
  },
  {
   "cell_type": "code",
   "execution_count": 18,
   "id": "eee2328d",
   "metadata": {},
   "outputs": [
    {
     "data": {
      "text/plain": [
       "5"
      ]
     },
     "execution_count": 18,
     "metadata": {},
     "output_type": "execute_result"
    }
   ],
   "source": [
    "next(f1)"
   ]
  },
  {
   "cell_type": "code",
   "execution_count": 19,
   "id": "b1cbfac3",
   "metadata": {},
   "outputs": [
    {
     "data": {
      "text/plain": [
       "7"
      ]
     },
     "execution_count": 19,
     "metadata": {},
     "output_type": "execute_result"
    }
   ],
   "source": [
    "next(f1)"
   ]
  },
  {
   "cell_type": "code",
   "execution_count": 20,
   "id": "be8f87fa",
   "metadata": {},
   "outputs": [
    {
     "data": {
      "text/plain": [
       "11"
      ]
     },
     "execution_count": 20,
     "metadata": {},
     "output_type": "execute_result"
    }
   ],
   "source": [
    "next(f1)"
   ]
  },
  {
   "cell_type": "code",
   "execution_count": 21,
   "id": "f181ff73",
   "metadata": {},
   "outputs": [
    {
     "data": {
      "text/plain": [
       "13"
      ]
     },
     "execution_count": 21,
     "metadata": {},
     "output_type": "execute_result"
    }
   ],
   "source": [
    "next(f1)"
   ]
  },
  {
   "cell_type": "code",
   "execution_count": 22,
   "id": "1c160526",
   "metadata": {},
   "outputs": [
    {
     "data": {
      "text/plain": [
       "17"
      ]
     },
     "execution_count": 22,
     "metadata": {},
     "output_type": "execute_result"
    }
   ],
   "source": [
    "next(f1)"
   ]
  },
  {
   "cell_type": "code",
   "execution_count": 23,
   "id": "9efabd1b",
   "metadata": {},
   "outputs": [
    {
     "data": {
      "text/plain": [
       "19"
      ]
     },
     "execution_count": 23,
     "metadata": {},
     "output_type": "execute_result"
    }
   ],
   "source": [
    "next(f1)"
   ]
  },
  {
   "cell_type": "code",
   "execution_count": 24,
   "id": "01328ea6",
   "metadata": {},
   "outputs": [
    {
     "data": {
      "text/plain": [
       "23"
      ]
     },
     "execution_count": 24,
     "metadata": {},
     "output_type": "execute_result"
    }
   ],
   "source": [
    "next(f1)"
   ]
  },
  {
   "cell_type": "code",
   "execution_count": 25,
   "id": "baa5906d",
   "metadata": {},
   "outputs": [
    {
     "data": {
      "text/plain": [
       "29"
      ]
     },
     "execution_count": 25,
     "metadata": {},
     "output_type": "execute_result"
    }
   ],
   "source": [
    "next(f1)"
   ]
  },
  {
   "cell_type": "code",
   "execution_count": 26,
   "id": "7af39e31",
   "metadata": {},
   "outputs": [
    {
     "data": {
      "text/plain": [
       "31"
      ]
     },
     "execution_count": 26,
     "metadata": {},
     "output_type": "execute_result"
    }
   ],
   "source": [
    "next(f1)"
   ]
  },
  {
   "cell_type": "code",
   "execution_count": 27,
   "id": "525a5bbf",
   "metadata": {},
   "outputs": [
    {
     "data": {
      "text/plain": [
       "37"
      ]
     },
     "execution_count": 27,
     "metadata": {},
     "output_type": "execute_result"
    }
   ],
   "source": [
    "next(f1)"
   ]
  },
  {
   "cell_type": "code",
   "execution_count": 28,
   "id": "38b32bb1",
   "metadata": {},
   "outputs": [
    {
     "data": {
      "text/plain": [
       "41"
      ]
     },
     "execution_count": 28,
     "metadata": {},
     "output_type": "execute_result"
    }
   ],
   "source": [
    "next(f1)"
   ]
  },
  {
   "cell_type": "code",
   "execution_count": 29,
   "id": "fc8cf9c3",
   "metadata": {},
   "outputs": [
    {
     "data": {
      "text/plain": [
       "43"
      ]
     },
     "execution_count": 29,
     "metadata": {},
     "output_type": "execute_result"
    }
   ],
   "source": [
    "next(f1)"
   ]
  },
  {
   "cell_type": "code",
   "execution_count": 30,
   "id": "84acb2e1",
   "metadata": {},
   "outputs": [
    {
     "data": {
      "text/plain": [
       "47"
      ]
     },
     "execution_count": 30,
     "metadata": {},
     "output_type": "execute_result"
    }
   ],
   "source": [
    "next(f1)"
   ]
  },
  {
   "cell_type": "code",
   "execution_count": 31,
   "id": "64c64a70",
   "metadata": {},
   "outputs": [
    {
     "data": {
      "text/plain": [
       "53"
      ]
     },
     "execution_count": 31,
     "metadata": {},
     "output_type": "execute_result"
    }
   ],
   "source": [
    "next(f1)"
   ]
  },
  {
   "cell_type": "code",
   "execution_count": 32,
   "id": "5af77fcc",
   "metadata": {},
   "outputs": [
    {
     "data": {
      "text/plain": [
       "59"
      ]
     },
     "execution_count": 32,
     "metadata": {},
     "output_type": "execute_result"
    }
   ],
   "source": [
    "next(f1)"
   ]
  },
  {
   "cell_type": "code",
   "execution_count": 33,
   "id": "98369dd4",
   "metadata": {},
   "outputs": [
    {
     "data": {
      "text/plain": [
       "61"
      ]
     },
     "execution_count": 33,
     "metadata": {},
     "output_type": "execute_result"
    }
   ],
   "source": [
    "next(f1)"
   ]
  },
  {
   "cell_type": "code",
   "execution_count": 34,
   "id": "0b08e81b",
   "metadata": {},
   "outputs": [
    {
     "data": {
      "text/plain": [
       "67"
      ]
     },
     "execution_count": 34,
     "metadata": {},
     "output_type": "execute_result"
    }
   ],
   "source": [
    "next(f1)"
   ]
  },
  {
   "cell_type": "code",
   "execution_count": 35,
   "id": "d56819d7",
   "metadata": {},
   "outputs": [
    {
     "data": {
      "text/plain": [
       "71"
      ]
     },
     "execution_count": 35,
     "metadata": {},
     "output_type": "execute_result"
    }
   ],
   "source": [
    "next(f1)"
   ]
  },
  {
   "cell_type": "markdown",
   "id": "e9f67ce1",
   "metadata": {},
   "source": [
    "Q6. Write a python program to print the first 10 Fibonacci numbers using a while loop."
   ]
  },
  {
   "cell_type": "code",
   "execution_count": 36,
   "id": "339e3f33",
   "metadata": {},
   "outputs": [
    {
     "name": "stdout",
     "output_type": "stream",
     "text": [
      "Enter the number: 10\n",
      "0\n",
      "1\n",
      "1\n",
      "2\n",
      "3\n",
      "5\n",
      "8\n",
      "13\n",
      "21\n",
      "34\n"
     ]
    }
   ],
   "source": [
    "n = int(input(\"Enter the number: \"))\n",
    "a,b = 0,1\n",
    "counter = 1\n",
    "\n",
    "while counter<=n:\n",
    "    print(a)\n",
    "    a,b = b,a+b\n",
    "    counter+=1"
   ]
  },
  {
   "cell_type": "markdown",
   "id": "68fd2638",
   "metadata": {},
   "source": [
    "Q7. Write a List Comprehension to iterate through the given string: ‘pwskills’.\n",
    "Expected output: ['p', 'w', 's', 'k', 'i', 'l', 'l', 's']"
   ]
  },
  {
   "cell_type": "code",
   "execution_count": 37,
   "id": "c24f326f",
   "metadata": {},
   "outputs": [
    {
     "data": {
      "text/plain": [
       "['p', 'w', 's', 'k', 'i', 'l', 'l', 's']"
      ]
     },
     "execution_count": 37,
     "metadata": {},
     "output_type": "execute_result"
    }
   ],
   "source": [
    "s = 'pwskills'\n",
    "[i for i in s]"
   ]
  },
  {
   "cell_type": "markdown",
   "id": "7c22421f",
   "metadata": {},
   "source": [
    "Q8. Write a python program to check whether a given number is Palindrome or not using a while loop."
   ]
  },
  {
   "cell_type": "code",
   "execution_count": 38,
   "id": "b3b57d31",
   "metadata": {},
   "outputs": [
    {
     "name": "stdout",
     "output_type": "stream",
     "text": [
      "Enter the number which is to be checked: 123456789009876543211\n",
      "not a palindrome\n"
     ]
    }
   ],
   "source": [
    "m = int(input(\"Enter the number which is to be checked: \"))\n",
    "\n",
    "def palindrome(m):\n",
    "    reverse = 0\n",
    "    original = m\n",
    "    while m>0:\n",
    "        remainder = m%10\n",
    "        reverse = (reverse*10)+remainder\n",
    "        m=m//2\n",
    "    if original==reverse:\n",
    "        print (\"is a palindrome\")\n",
    "    else:\n",
    "        print (\"not a palindrome\")\n",
    "palindrome(m)"
   ]
  },
  {
   "cell_type": "markdown",
   "id": "8ea815f0",
   "metadata": {},
   "source": [
    "Q9. Write a code to print odd numbers from 1 to 100 using list comprehension."
   ]
  },
  {
   "cell_type": "code",
   "execution_count": 39,
   "id": "00d2674e",
   "metadata": {},
   "outputs": [],
   "source": [
    "l = [i for i in range(1,101)]"
   ]
  },
  {
   "cell_type": "code",
   "execution_count": 40,
   "id": "7fc80778",
   "metadata": {},
   "outputs": [],
   "source": [
    "l1 = [j for j in l if j%2!=0]"
   ]
  },
  {
   "cell_type": "code",
   "execution_count": 41,
   "id": "a3daece3",
   "metadata": {},
   "outputs": [
    {
     "data": {
      "text/plain": [
       "[1,\n",
       " 3,\n",
       " 5,\n",
       " 7,\n",
       " 9,\n",
       " 11,\n",
       " 13,\n",
       " 15,\n",
       " 17,\n",
       " 19,\n",
       " 21,\n",
       " 23,\n",
       " 25,\n",
       " 27,\n",
       " 29,\n",
       " 31,\n",
       " 33,\n",
       " 35,\n",
       " 37,\n",
       " 39,\n",
       " 41,\n",
       " 43,\n",
       " 45,\n",
       " 47,\n",
       " 49,\n",
       " 51,\n",
       " 53,\n",
       " 55,\n",
       " 57,\n",
       " 59,\n",
       " 61,\n",
       " 63,\n",
       " 65,\n",
       " 67,\n",
       " 69,\n",
       " 71,\n",
       " 73,\n",
       " 75,\n",
       " 77,\n",
       " 79,\n",
       " 81,\n",
       " 83,\n",
       " 85,\n",
       " 87,\n",
       " 89,\n",
       " 91,\n",
       " 93,\n",
       " 95,\n",
       " 97,\n",
       " 99]"
      ]
     },
     "execution_count": 41,
     "metadata": {},
     "output_type": "execute_result"
    }
   ],
   "source": [
    "l1"
   ]
  }
 ],
 "metadata": {
  "kernelspec": {
   "display_name": "Python 3 (ipykernel)",
   "language": "python",
   "name": "python3"
  },
  "language_info": {
   "codemirror_mode": {
    "name": "ipython",
    "version": 3
   },
   "file_extension": ".py",
   "mimetype": "text/x-python",
   "name": "python",
   "nbconvert_exporter": "python",
   "pygments_lexer": "ipython3",
   "version": "3.10.9"
  }
 },
 "nbformat": 4,
 "nbformat_minor": 5
}
