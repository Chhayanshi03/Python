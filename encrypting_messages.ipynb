{
 "cells": [
  {
   "cell_type": "markdown",
   "id": "aab233ee",
   "metadata": {},
   "source": [
    "Q1. Create a function which will take a list as an argument and return the product of all the numbers\n",
    "after creating a flat list.\n",
    "Use the below-given list as an argument for your function.\n",
    "list1 = [1,2,3,4, [44,55,66, True], False, (34,56,78,89,34), {1,2,3,3,2,1}, {1:34, \"key2\": [55, 67, 78, 89], 4: (45,22, 61, 34)}, [56, 'data science'], 'Machine Learning']\n",
    "Note: you must extract numeric keys and values of the dictionary also."
   ]
  },
  {
   "cell_type": "code",
   "execution_count": 1,
   "id": "1f144788",
   "metadata": {},
   "outputs": [],
   "source": [
    "from functools import reduce"
   ]
  },
  {
   "cell_type": "code",
   "execution_count": 2,
   "id": "a3cc85c7",
   "metadata": {},
   "outputs": [],
   "source": [
    "given_list = [1,2,3,4,[44,55,66,True], False, (34,56,78,89,34), {1,2,3,3,2,1}, {1:34, \"key2\": [55, 67, 78, 89], 4: (45,\n",
    "22, 61, 34)}, [56, 'data science'], 'Machine Learning']"
   ]
  },
  {
   "cell_type": "code",
   "execution_count": 3,
   "id": "979ff8e1",
   "metadata": {},
   "outputs": [],
   "source": [
    "def prod_funct(given_list):    \n",
    "    m=[]\n",
    "    for i in given_list:\n",
    "        if type(i)==int:\n",
    "            m.append(i)\n",
    "        elif type(i)==list or type(i)==tuple or type(i)==set:\n",
    "            for j in i:\n",
    "                if type(j)==int:\n",
    "                    m.append(j)\n",
    "        elif type(i)==dict:\n",
    "            n = i.values()\n",
    "            for num in n:\n",
    "                if type(num)==int:\n",
    "                    m.append(num)\n",
    "                elif type(num)==list or type(num)==tuple:\n",
    "                    for main in num:\n",
    "                        m.append(main)\n",
    "    def multiply(x,y):\n",
    "        product = x*y\n",
    "        return product\n",
    "    b = reduce(multiply,m)\n",
    "\n",
    "    return b"
   ]
  },
  {
   "cell_type": "code",
   "execution_count": 4,
   "id": "de4f7898",
   "metadata": {},
   "outputs": [
    {
     "data": {
      "text/plain": [
       "1033677959746771369708460310528000"
      ]
     },
     "execution_count": 4,
     "metadata": {},
     "output_type": "execute_result"
    }
   ],
   "source": [
    "prod_funct(given_list)"
   ]
  },
  {
   "cell_type": "markdown",
   "id": "1dd5a220",
   "metadata": {},
   "source": [
    "Q2. Write a python program for encrypting a message sent to you by your friend. The logic of encryption\n",
    "should be such that, for a the output should be z. For b, the output should be y. For c, the output should\n",
    "be x respectively. Also, the whitespace should be replaced with a dollar sign. Keep the punctuation\n",
    "marks unchanged.\n",
    "Input Sentence: I want to become a Data Scientist.\n",
    "Encrypt the above input sentence using the program you just created.\n",
    "Note: Convert the given input sentence into lowercase before encrypting. The final output should be\n",
    "lowercase."
   ]
  },
  {
   "cell_type": "code",
   "execution_count": 5,
   "id": "4e40fd39",
   "metadata": {},
   "outputs": [],
   "source": [
    "def encrypt_message(sr):\n",
    "    start = [\" \",'a','b','c','d','e','f','g','h','i','j','k','l','m','n','o','p','q','r','s','t',\n",
    "             'u','v','w','x','y','z']\n",
    "    end =   [\"$\",'z','y','x','w','v','u','t','s','r','q','p','o','n','m','l','k','j','i','h','g',\n",
    "             'f','e','d','c','b','a']\n",
    "    \n",
    "    length=len(sr)\n",
    "    \n",
    "    s = sr.lower()\n",
    "    d= []\n",
    "    \n",
    "    for i in s:\n",
    "        a = start.index(i)\n",
    "        o =end[a]\n",
    "        d.append(o)\n",
    "        \n",
    "    an= ' '\n",
    "    for j in d:\n",
    "        print(j, end = \"\")"
   ]
  },
  {
   "cell_type": "code",
   "execution_count": 6,
   "id": "88f31d56",
   "metadata": {},
   "outputs": [
    {
     "name": "stdout",
     "output_type": "stream",
     "text": [
      "r$dzmg$gl$yvxlnv$z$wzgz$hxrvmgrhg"
     ]
    }
   ],
   "source": [
    "sr = \"I want to become a Data Scientist\"\n",
    "encrypt_message(sr)"
   ]
  }
 ],
 "metadata": {
  "kernelspec": {
   "display_name": "Python 3 (ipykernel)",
   "language": "python",
   "name": "python3"
  },
  "language_info": {
   "codemirror_mode": {
    "name": "ipython",
    "version": 3
   },
   "file_extension": ".py",
   "mimetype": "text/x-python",
   "name": "python",
   "nbconvert_exporter": "python",
   "pygments_lexer": "ipython3",
   "version": "3.10.9"
  }
 },
 "nbformat": 4,
 "nbformat_minor": 5
}
