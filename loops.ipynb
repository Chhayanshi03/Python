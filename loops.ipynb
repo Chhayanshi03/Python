{
 "cells": [
  {
   "cell_type": "markdown",
   "id": "dd9ccb05",
   "metadata": {},
   "source": [
    "Exercise 1: Calculate the multiplication and sum of two numbers. Given two integer numbers return their product only if the product is equal to or lower than 1000, else return their sum."
   ]
  },
  {
   "cell_type": "code",
   "execution_count": 1,
   "id": "39327748",
   "metadata": {},
   "outputs": [
    {
     "name": "stdout",
     "output_type": "stream",
     "text": [
      "Enter the first number: 30\n",
      "Enter the second number: 40\n",
      "Sum =  70\n"
     ]
    }
   ],
   "source": [
    "x = int(input(\"Enter the first number: \"))\n",
    "y = int(input(\"Enter the second number: \"))\n",
    "if x*y<=1000:\n",
    "    print(\"Product = \",x*y)\n",
    "else:\n",
    "    print(\"Sum = \",x+y)"
   ]
  },
  {
   "cell_type": "markdown",
   "id": "54178f48",
   "metadata": {},
   "source": [
    "Exercise 2: Print the sum of the current number and the previous number\n",
    "Write a program to iterate the first 10 numbers, and in each iteration, print the sum of the current and previous number."
   ]
  },
  {
   "cell_type": "code",
   "execution_count": 2,
   "id": "9816f51d",
   "metadata": {},
   "outputs": [
    {
     "name": "stdout",
     "output_type": "stream",
     "text": [
      "Enter the range: 10\n",
      "Current Number  0  Previous Number 0 Sum = 0\n",
      "Current Number  1  Previous Number 0 Sum = 1\n",
      "Current Number  2  Previous Number 1 Sum = 3\n",
      "Current Number  3  Previous Number 2 Sum = 5\n",
      "Current Number  4  Previous Number 3 Sum = 7\n",
      "Current Number  5  Previous Number 4 Sum = 9\n",
      "Current Number  6  Previous Number 5 Sum = 11\n",
      "Current Number  7  Previous Number 6 Sum = 13\n",
      "Current Number  8  Previous Number 7 Sum = 15\n",
      "Current Number  9  Previous Number 8 Sum = 17\n"
     ]
    }
   ],
   "source": [
    "n = int(input(\"Enter the range: \"))\n",
    "previous_num = 0\n",
    "for i in range(n):\n",
    "    Sum = i +previous_num\n",
    "    print(\"Current Number \",i,\" Previous Number \"+str(previous_num)+\" Sum = \"+str(Sum))\n",
    "    previous_num=i"
   ]
  },
  {
   "cell_type": "markdown",
   "id": "e1b7b5b4",
   "metadata": {},
   "source": [
    "Exercise 3: Print characters from a string that are present at an even index number\n",
    "Write a program to accept a string from the user and display characters that are present at an even index number."
   ]
  },
  {
   "cell_type": "code",
   "execution_count": 3,
   "id": "cce65ea1",
   "metadata": {},
   "outputs": [
    {
     "name": "stdout",
     "output_type": "stream",
     "text": [
      "p\n",
      "n\n",
      "t\n",
      "v\n"
     ]
    }
   ],
   "source": [
    "str = \"pynative\"\n",
    "for i in str[0::2]:\n",
    "    print(i)"
   ]
  },
  {
   "cell_type": "markdown",
   "id": "466409cc",
   "metadata": {},
   "source": [
    "Exercise 4: Remove first n characters from a string\n",
    "Write a program to remove characters from a string starting from zero up to n and return a new string."
   ]
  },
  {
   "cell_type": "code",
   "execution_count": 4,
   "id": "08d753b9",
   "metadata": {},
   "outputs": [
    {
     "name": "stdout",
     "output_type": "stream",
     "text": [
      "Enter the word: pynative\n",
      "Enter the number till which characters have to be removed: 4\n",
      "\n",
      " tive\n"
     ]
    }
   ],
   "source": [
    "string= input(\"Enter the word: \")\n",
    "n = int(input(\"Enter the number till which characters have to be removed: \"))\n",
    "print(\"\\n\",string[n::])"
   ]
  },
  {
   "cell_type": "code",
   "execution_count": 5,
   "id": "16d6aacb",
   "metadata": {},
   "outputs": [
    {
     "name": "stdout",
     "output_type": "stream",
     "text": [
      "Enter the word: pynative\n",
      "Enter the number till which characters have to be removed: 2\n"
     ]
    },
    {
     "data": {
      "text/plain": [
       "'native'"
      ]
     },
     "execution_count": 5,
     "metadata": {},
     "output_type": "execute_result"
    }
   ],
   "source": [
    "def remove(word,n):\n",
    "    x = word[n::]\n",
    "    return x\n",
    "string= input(\"Enter the word: \")\n",
    "n = int(input(\"Enter the number till which characters have to be removed: \"))\n",
    "remove(string,n)"
   ]
  },
  {
   "cell_type": "markdown",
   "id": "d120a00c",
   "metadata": {},
   "source": [
    "Exercise 5: Check if the first and last number of a list is the same\n",
    "\n",
    "Write a function to return True if the first and last number of a given list is same. If numbers are different then return False."
   ]
  },
  {
   "cell_type": "code",
   "execution_count": 6,
   "id": "d8275ad5",
   "metadata": {},
   "outputs": [
    {
     "name": "stdout",
     "output_type": "stream",
     "text": [
      "True\n",
      "False\n"
     ]
    }
   ],
   "source": [
    "numbers_x = [10, 20, 30, 40, 10]\n",
    "numbers_y = [75, 65, 35, 75, 30]\n",
    "def check(l):\n",
    "    if l[0]==l[-1]:\n",
    "        return True\n",
    "    else:\n",
    "        return False\n",
    "print(check(numbers_x))   \n",
    "print(check(numbers_y))"
   ]
  },
  {
   "cell_type": "markdown",
   "id": "0dd7d475",
   "metadata": {},
   "source": [
    "Exercise 6: Display numbers divisible by 5 from a list\n",
    "Iterate the given list of numbers and print only those numbers which are divisible by 5"
   ]
  },
  {
   "cell_type": "code",
   "execution_count": 7,
   "id": "fd240afe",
   "metadata": {},
   "outputs": [
    {
     "name": "stdout",
     "output_type": "stream",
     "text": [
      "10\n",
      "20\n",
      "55\n"
     ]
    }
   ],
   "source": [
    "Given_list =  [10, 20, 33, 46, 55]\n",
    "def divisible_by_5(l):\n",
    "    for i in l:\n",
    "        if i%5==0:\n",
    "            print(i)\n",
    "divisible_by_5(Given_list)"
   ]
  },
  {
   "cell_type": "markdown",
   "id": "8d6504ff",
   "metadata": {},
   "source": [
    "Exercise 7: Return the count of a given substring from a string\n",
    "Write a program to find how many times substring “Emma” appears in the given string."
   ]
  },
  {
   "cell_type": "code",
   "execution_count": 8,
   "id": "3633a4b3",
   "metadata": {},
   "outputs": [
    {
     "data": {
      "text/plain": [
       "2"
      ]
     },
     "execution_count": 8,
     "metadata": {},
     "output_type": "execute_result"
    }
   ],
   "source": [
    "strinf = \"Emma is good developer. Emma is a writer\"\n",
    "strinf.count(\"Emma\")"
   ]
  },
  {
   "cell_type": "markdown",
   "id": "cdc68f21",
   "metadata": {},
   "source": [
    "Exercise 8: Print the following pattern"
   ]
  },
  {
   "cell_type": "code",
   "execution_count": 9,
   "id": "af091b6a",
   "metadata": {},
   "outputs": [
    {
     "name": "stdout",
     "output_type": "stream",
     "text": [
      "Enter range: 6\n",
      "1 \t\t\t\t\n",
      "2 2 \t\t\t\t\n",
      "3 3 3 \t\t\t\t\n",
      "4 4 4 4 \t\t\t\t\n",
      "5 5 5 5 5 \t\t\t\t\n",
      "6 6 6 6 6 6 \t\t\t\t\n"
     ]
    }
   ],
   "source": [
    "m=int(input(\"Enter range: \"))\n",
    "for i in range(1,m+1):\n",
    "    for j in range(1,i+1):\n",
    "        print(i ,end=\" \")\n",
    "    print(\"\\t\\t\\t\\t\")"
   ]
  },
  {
   "cell_type": "markdown",
   "id": "84d1b914",
   "metadata": {},
   "source": [
    "Exercise 9: Check Palindrome Number\n",
    "Write a program to check if the given number is a palindrome number."
   ]
  },
  {
   "cell_type": "code",
   "execution_count": 10,
   "id": "3a42910a",
   "metadata": {},
   "outputs": [
    {
     "name": "stdout",
     "output_type": "stream",
     "text": [
      "Enter a number: 12345556543322\n",
      "Not a Palindrome\n"
     ]
    }
   ],
   "source": [
    "n = int(input('Enter a number: '))\n",
    "def palindrome(n):\n",
    "    original = n\n",
    "    reverse=0\n",
    "    while n>0:\n",
    "        remainder=n%10\n",
    "        reverse = remainder+(reverse*10)\n",
    "        n=n//10\n",
    "    if reverse == original:\n",
    "        print(\"Is a Palindrome\")\n",
    "    else:\n",
    "        print(\"Not a Palindrome\")\n",
    "palindrome(n)\n"
   ]
  },
  {
   "cell_type": "markdown",
   "id": "33e3f3ac",
   "metadata": {},
   "source": [
    "Exercise 10: Create a new list from a two list using the following condition. Create a new list from a two list using the following condition\n",
    "\n",
    "Given a two list of numbers, write a program to create a new list such that the new list should contain odd numbers from the first list and even numbers from the second list."
   ]
  },
  {
   "cell_type": "code",
   "execution_count": 11,
   "id": "0e1df0d0",
   "metadata": {},
   "outputs": [
    {
     "data": {
      "text/plain": [
       "[25, 35, 40, 60, 90]"
      ]
     },
     "execution_count": 11,
     "metadata": {},
     "output_type": "execute_result"
    }
   ],
   "source": [
    "l1 = [10, 20, 25, 30, 35]\n",
    "l2 = [40, 45, 60, 75, 90]\n",
    "l = [ ]\n",
    "for i in l1:\n",
    "    if i%2!=0:\n",
    "        l.append(i)\n",
    "for j in l2:\n",
    "    if j%2==0:\n",
    "        l.append(j)\n",
    "l"
   ]
  },
  {
   "cell_type": "markdown",
   "id": "998c7969",
   "metadata": {},
   "source": [
    "Exercise 11: Write a Program to extract each digit from an integer in the reverse order."
   ]
  },
  {
   "cell_type": "code",
   "execution_count": 12,
   "id": "9684b95c",
   "metadata": {},
   "outputs": [
    {
     "name": "stdout",
     "output_type": "stream",
     "text": [
      "Enter a number: 12458679\n",
      "9 7 6 8 5 4 2 1 "
     ]
    }
   ],
   "source": [
    "n = int(input(\"Enter a number: \"))\n",
    "\n",
    "while n>0:\n",
    "    remainder = n%10\n",
    "    n=n//10\n",
    "    print(remainder,end=\" \")"
   ]
  },
  {
   "cell_type": "markdown",
   "id": "7462e45a",
   "metadata": {},
   "source": [
    "Exercise 12: Calculate income tax for the given income by adhering to the below rules:\n",
    "Taxable Income\tRate (in %)\n",
    "First $10,000\t0\n",
    "Next $10,000\t10\n",
    "The remaining\t20"
   ]
  },
  {
   "cell_type": "code",
   "execution_count": 13,
   "id": "d4a13a07",
   "metadata": {},
   "outputs": [
    {
     "name": "stdout",
     "output_type": "stream",
     "text": [
      "Enter your Salary: 1000000\n",
      "Your Tax is:  197000.0\n"
     ]
    }
   ],
   "source": [
    "n = int(input(\"Enter your Salary: \"))\n",
    "if n<10000:\n",
    "    print(\"No tax\")\n",
    "elif n>10000 and n<20000:\n",
    "    tax = (n-10000)*10\n",
    "    print(\"Your tax is: \",tax)\n",
    "elif n>20000:\n",
    "    tax = (10000)*0.1+ (n-20000)*0.2\n",
    "    print(\"Your Tax is: \",tax)"
   ]
  },
  {
   "cell_type": "markdown",
   "id": "58679f99",
   "metadata": {},
   "source": [
    "Exercise 13: Print multiplication table form 1 to 10"
   ]
  },
  {
   "cell_type": "code",
   "execution_count": 14,
   "id": "3c9c94f4",
   "metadata": {},
   "outputs": [
    {
     "name": "stdout",
     "output_type": "stream",
     "text": [
      "Enter the number: 10\n",
      "1 2 3 4 5 6 7 8 9 10 \t\t\t\t\n",
      "2 4 6 8 10 12 14 16 18 20 \t\t\t\t\n",
      "3 6 9 12 15 18 21 24 27 30 \t\t\t\t\n",
      "4 8 12 16 20 24 28 32 36 40 \t\t\t\t\n",
      "5 10 15 20 25 30 35 40 45 50 \t\t\t\t\n",
      "6 12 18 24 30 36 42 48 54 60 \t\t\t\t\n",
      "7 14 21 28 35 42 49 56 63 70 \t\t\t\t\n",
      "8 16 24 32 40 48 56 64 72 80 \t\t\t\t\n",
      "9 18 27 36 45 54 63 72 81 90 \t\t\t\t\n",
      "10 20 30 40 50 60 70 80 90 100 \t\t\t\t\n"
     ]
    }
   ],
   "source": [
    "n = int(input(\"Enter the number: \"))\n",
    "for i in range(1,n+1):\n",
    "    for j in range(1,11):\n",
    "        print(i*j, end=\" \")\n",
    "    print(\"\\t\\t\\t\\t\")"
   ]
  },
  {
   "cell_type": "markdown",
   "id": "84208b52",
   "metadata": {},
   "source": [
    "Exercise 14: Print downward Half-Pyramid Pattern with Star (asterisk)"
   ]
  },
  {
   "cell_type": "code",
   "execution_count": 15,
   "id": "ee41cc91",
   "metadata": {},
   "outputs": [
    {
     "name": "stdout",
     "output_type": "stream",
     "text": [
      "* * * * * \t\t\t\n",
      "* * * * \t\t\t\n",
      "* * * \t\t\t\n",
      "* * \t\t\t\n",
      "* \t\t\t\n"
     ]
    }
   ],
   "source": [
    "n = 5\n",
    "for i in range(n,0,-1):\n",
    "    for j in range(i,0,-1):\n",
    "        print(\"*\",end=\" \")\n",
    "    print(\"\\t\\t\\t\")"
   ]
  },
  {
   "cell_type": "markdown",
   "id": "7f79c0fe",
   "metadata": {},
   "source": [
    "Exercise 15: Write a function called exponent(base, exp) that returns an int value of base raises to the power of exp."
   ]
  },
  {
   "cell_type": "code",
   "execution_count": 16,
   "id": "3e8fe303",
   "metadata": {},
   "outputs": [
    {
     "name": "stdout",
     "output_type": "stream",
     "text": [
      "Enter the base: 5\n",
      "Enter the power: 10\n",
      "5 raises to the power of 10 is 9765625\n"
     ]
    }
   ],
   "source": [
    "base = int(input(\"Enter the base: \"))\n",
    "power = int(input(\"Enter the power: \"))\n",
    "print(base, \"raises to the power of\",power,\"is\", base**power)"
   ]
  },
  {
   "cell_type": "markdown",
   "id": "93f2224d",
   "metadata": {},
   "source": [
    "Exercise 16 :Write a program to use string.format() method to format the following three variables as per the expected output"
   ]
  },
  {
   "cell_type": "code",
   "execution_count": 17,
   "id": "c888bd88",
   "metadata": {},
   "outputs": [
    {
     "data": {
      "text/plain": [
       "'I have 1000 dollars so I can buy 3 football for 450 dollars.'"
      ]
     },
     "execution_count": 17,
     "metadata": {},
     "output_type": "execute_result"
    }
   ],
   "source": [
    "totalmoney = 1000\n",
    "quantity = 3\n",
    "price = 450\n",
    "\n",
    "statement = \"I have {0} dollars so I can buy {1} football for {2} dollars.\"\n",
    "statement.format(totalmoney,quantity,price)"
   ]
  },
  {
   "cell_type": "markdown",
   "id": "6668c308",
   "metadata": {},
   "source": [
    "Exercise 17 : Write a program to print the following number pattern using a loop.\n",
    "\n"
   ]
  },
  {
   "cell_type": "code",
   "execution_count": 18,
   "id": "4d739e53",
   "metadata": {},
   "outputs": [
    {
     "name": "stdout",
     "output_type": "stream",
     "text": [
      "Enter the range: 5\n",
      "1 \t\t\t\t\n",
      "1 2 \t\t\t\t\n",
      "1 2 3 \t\t\t\t\n",
      "1 2 3 4 \t\t\t\t\n",
      "1 2 3 4 5 \t\t\t\t\n"
     ]
    }
   ],
   "source": [
    "k = int(input(\"Enter the range: \"))\n",
    "for i in range(1,k+1):\n",
    "    for j in range(1,i+1):\n",
    "        print(j, end=\" \")\n",
    "    print(\"\\t\\t\\t\\t\")"
   ]
  },
  {
   "cell_type": "markdown",
   "id": "423683a6",
   "metadata": {},
   "source": [
    "Exercise 18 : Write a program to accept a number from a user and calculate the sum of all numbers from 1 to a given number"
   ]
  },
  {
   "cell_type": "code",
   "execution_count": 19,
   "id": "bd827b9b",
   "metadata": {},
   "outputs": [
    {
     "name": "stdout",
     "output_type": "stream",
     "text": [
      "Enter the number: 200\n",
      "20100\n"
     ]
    }
   ],
   "source": [
    "a = int(input(\"Enter the number: \"))\n",
    "sum = 0\n",
    "for i in range(1,a+1):\n",
    "    sum+=i\n",
    "print(sum)"
   ]
  },
  {
   "cell_type": "markdown",
   "id": "a27e3a11",
   "metadata": {},
   "source": [
    "Exercise 19 : Write a program to count the total number of digits in a number using a while loop."
   ]
  },
  {
   "cell_type": "code",
   "execution_count": 20,
   "id": "cb2fdab0",
   "metadata": {},
   "outputs": [
    {
     "name": "stdout",
     "output_type": "stream",
     "text": [
      "Enter a number: 234589052345654\n",
      "15\n"
     ]
    }
   ],
   "source": [
    "b = int(input(\"Enter a number: \"))\n",
    "count = 0\n",
    "while b>0:\n",
    "    remain = b%10\n",
    "    count+=1\n",
    "    b = b//10\n",
    "print(count)"
   ]
  },
  {
   "cell_type": "markdown",
   "id": "494878dc",
   "metadata": {},
   "source": [
    "Exercise 20 : Write a program to use for loop to print the following reverse number pattern"
   ]
  },
  {
   "cell_type": "code",
   "execution_count": 21,
   "id": "3668252f",
   "metadata": {},
   "outputs": [
    {
     "name": "stdout",
     "output_type": "stream",
     "text": [
      "Enter a number: 5\n",
      "5 4 3 2 1 \t\t\t\n",
      "4 3 2 1 \t\t\t\n",
      "3 2 1 \t\t\t\n",
      "2 1 \t\t\t\n",
      "1 \t\t\t\n"
     ]
    }
   ],
   "source": [
    "c = int(input(\"Enter a number: \"))\n",
    "for i in range(c,0,-1):\n",
    "    for j in range(i,0,-1):\n",
    "        print(j, end = \" \")\n",
    "    print(\"\\t\\t\\t\")"
   ]
  },
  {
   "cell_type": "markdown",
   "id": "d0babd1a",
   "metadata": {},
   "source": [
    "Exercise 21 : Print list in reverse order using a loop"
   ]
  },
  {
   "cell_type": "code",
   "execution_count": 22,
   "id": "47057f1c",
   "metadata": {},
   "outputs": [
    {
     "name": "stdout",
     "output_type": "stream",
     "text": [
      "50\n",
      "40\n",
      "30\n",
      "20\n",
      "10\n"
     ]
    }
   ],
   "source": [
    "list1 = [10, 20, 30, 40, 50]\n",
    "for i in list1[::-1]:\n",
    "    print(i)"
   ]
  },
  {
   "cell_type": "markdown",
   "id": "f5de538e",
   "metadata": {},
   "source": [
    "Exercise 22 : Write a program to display all prime numbers within a range"
   ]
  },
  {
   "cell_type": "code",
   "execution_count": 23,
   "id": "0f652f42",
   "metadata": {},
   "outputs": [
    {
     "name": "stdout",
     "output_type": "stream",
     "text": [
      "Enter the start number: 2\n",
      "Enter the end limit: 100\n",
      "2 3 5 7 11 13 17 19 23 29 31 37 41 43 47 53 59 61 67 71 73 79 83 89 97 "
     ]
    }
   ],
   "source": [
    "start = int(input(\"Enter the start number: \"))\n",
    "end = int(input(\"Enter the end limit: \"))\n",
    "for i in range(start,end+1):\n",
    "        for j in range(2,i):\n",
    "            if i%j==0:\n",
    "                break\n",
    "        else:\n",
    "            print(i,end = \" \")"
   ]
  },
  {
   "cell_type": "markdown",
   "id": "44b252f7",
   "metadata": {},
   "source": [
    "Exercise 23 : Display Fibonacci series up to 10 terms"
   ]
  },
  {
   "cell_type": "code",
   "execution_count": 24,
   "id": "abf2ad23",
   "metadata": {},
   "outputs": [
    {
     "name": "stdout",
     "output_type": "stream",
     "text": [
      "Enter the number: 10\n",
      "0 1 1 2 3 5 8 13 21 34 "
     ]
    }
   ],
   "source": [
    "d = int(input(\"Enter the number: \"))\n",
    "previous = 0\n",
    "current = 1\n",
    "for i in range(0,d):\n",
    "    print(previous, end = \" \")\n",
    "    result = previous+current\n",
    "    previous = current\n",
    "    current = result"
   ]
  },
  {
   "cell_type": "markdown",
   "id": "50617d2c",
   "metadata": {},
   "source": [
    "Exercise 24 : Write a program to calculate the sum of series up to n term. For example, if n =5 the series will become 2 + 22 + 222 + 2222 + 22222 = 24690"
   ]
  },
  {
   "cell_type": "code",
   "execution_count": 25,
   "id": "47cfc8c8",
   "metadata": {},
   "outputs": [
    {
     "name": "stdout",
     "output_type": "stream",
     "text": [
      "Enter the number: 7\n",
      "2469134\n"
     ]
    }
   ],
   "source": [
    "h = int(input(\"Enter the number: \"))\n",
    "f = 2\n",
    "suum =2\n",
    "for i in range(1,h):\n",
    "    f = 2*(10**i)+f\n",
    "    suum +=f\n",
    "print(suum)"
   ]
  },
  {
   "cell_type": "markdown",
   "id": "a4bcae2b",
   "metadata": {},
   "source": [
    "Exercise 25 : Write a program to use the loop to find the factorial of a given number."
   ]
  },
  {
   "cell_type": "code",
   "execution_count": 29,
   "id": "1358016b",
   "metadata": {},
   "outputs": [
    {
     "name": "stdout",
     "output_type": "stream",
     "text": [
      "Enter the number: 5\n",
      "The factorial is:  120\n"
     ]
    }
   ],
   "source": [
    "g = int(input(\"Enter the number: \"))\n",
    "fact = 1\n",
    "if g>=1:\n",
    "    for i in range(1,g+1):\n",
    "        fact = fact*i\n",
    "    print(\"The factorial is: \", fact)"
   ]
  }
 ],
 "metadata": {
  "kernelspec": {
   "display_name": "Python 3 (ipykernel)",
   "language": "python",
   "name": "python3"
  },
  "language_info": {
   "codemirror_mode": {
    "name": "ipython",
    "version": 3
   },
   "file_extension": ".py",
   "mimetype": "text/x-python",
   "name": "python",
   "nbconvert_exporter": "python",
   "pygments_lexer": "ipython3",
   "version": "3.10.9"
  }
 },
 "nbformat": 4,
 "nbformat_minor": 5
}
