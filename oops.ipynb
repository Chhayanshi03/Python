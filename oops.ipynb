{
 "cells": [
  {
   "cell_type": "markdown",
   "id": "2afb32d4",
   "metadata": {},
   "source": [
    "Q1. Explain Class and Object with respect to Object-Oriented Programming. Give a suitable example."
   ]
  },
  {
   "cell_type": "markdown",
   "id": "1711afcd",
   "metadata": {},
   "source": [
    "Ans: Class : It is bluprint of real world entity.It is the classification of any entitiy. It makes the code structured and make it reusable and also enhances coding capability.\n",
    "Object: It is the real world entity. it is also called as variable or instance.\n",
    "Example:"
   ]
  },
  {
   "cell_type": "code",
   "execution_count": 1,
   "id": "fbe04061",
   "metadata": {},
   "outputs": [
    {
     "name": "stdout",
     "output_type": "stream",
     "text": [
      "Hello, welcome to world of Coding\n"
     ]
    }
   ],
   "source": [
    "class temp:\n",
    "    \n",
    "    def grettings(self):\n",
    "        print(\"Hello, welcome to world of Coding\")\n",
    "        \n",
    "b = temp()\n",
    "b.grettings()"
   ]
  },
  {
   "cell_type": "markdown",
   "id": "1986f902",
   "metadata": {},
   "source": [
    "Q2. Name the four pillars of OOPs."
   ]
  },
  {
   "cell_type": "markdown",
   "id": "2b5e8250",
   "metadata": {},
   "source": [
    "Ans: Abstraction.\n",
    "Encapsulation.\n",
    "Inheritance.\n",
    "Polymorphism."
   ]
  },
  {
   "cell_type": "markdown",
   "id": "00504e9d",
   "metadata": {},
   "source": [
    "Q3. Explain why the __init__() function is used. Give a suitable example."
   ]
  },
  {
   "cell_type": "markdown",
   "id": "2088fd81",
   "metadata": {},
   "source": [
    "Ans: __init__ function: Also called as Constructor.It is used to recieve value from the user or in other words, its task is to initialize(assign values) to the data members of the class when an object of the class is created. Example:"
   ]
  },
  {
   "cell_type": "code",
   "execution_count": 2,
   "id": "d092cd8d",
   "metadata": {},
   "outputs": [
    {
     "data": {
      "text/plain": [
       "(10002, 6, 10002)"
      ]
     },
     "execution_count": 2,
     "metadata": {},
     "output_type": "execute_result"
    }
   ],
   "source": [
    "class temp:\n",
    "    \n",
    "    def __init__(self, name,class_name,id):\n",
    "        self.name = name\n",
    "        self.class_name = class_name\n",
    "        self.id= id\n",
    "        \n",
    "    def student_detail(self):\n",
    "        return self.id,self.class_name,self.id\n",
    "\n",
    "a = temp(\"riya\", 6, 10002)\n",
    "a.student_detail()"
   ]
  },
  {
   "cell_type": "markdown",
   "id": "5e1d2f54",
   "metadata": {},
   "source": [
    "Q4. Why self is used in OOPs?"
   ]
  },
  {
   "cell_type": "markdown",
   "id": "6c1dad83",
   "metadata": {},
   "source": [
    "Ans: This allows us to access variables, attributes, and methods of a defined class in Python. Basically it binds the method to the class. "
   ]
  },
  {
   "cell_type": "markdown",
   "id": "416bae6d",
   "metadata": {},
   "source": [
    "Q5. What is inheritance? Give an example for each type of inheritance."
   ]
  },
  {
   "cell_type": "markdown",
   "id": "961d249f",
   "metadata": {},
   "source": [
    "Ans: Inheritance allows us to define a class that inherits all the methods and properties from another class. Parent class is the class being inherited from, also called base class. Child class is the class that inherits from another class, also called derived class.\n",
    "\n",
    "There are 5 types of inheritence: Single level inheritance, multilevel inheritance,multiple inheritance, Hierarchical Inheritance. Hybrid Inheritance."
   ]
  },
  {
   "cell_type": "code",
   "execution_count": 3,
   "id": "9f014b17",
   "metadata": {},
   "outputs": [
    {
     "data": {
      "text/plain": [
       "'this is parent class'"
      ]
     },
     "execution_count": 3,
     "metadata": {},
     "output_type": "execute_result"
    }
   ],
   "source": [
    "#single level inheritance\n",
    "class class1:\n",
    "    def test_method(self):\n",
    "        return \"this is parent class\"\n",
    "    \n",
    "class class2(class1):\n",
    "    def test_method1(self):\n",
    "        return \"this is child class\"\n",
    "    \n",
    "child_obj = class2()\n",
    "child_obj.test_method()"
   ]
  },
  {
   "cell_type": "code",
   "execution_count": 4,
   "id": "7f792fe3",
   "metadata": {},
   "outputs": [
    {
     "data": {
      "text/plain": [
       "'this is child class'"
      ]
     },
     "execution_count": 4,
     "metadata": {},
     "output_type": "execute_result"
    }
   ],
   "source": [
    "child_obj.test_method1()"
   ]
  },
  {
   "cell_type": "code",
   "execution_count": 5,
   "id": "a036a077",
   "metadata": {},
   "outputs": [
    {
     "data": {
      "text/plain": [
       "'this is second parent class'"
      ]
     },
     "execution_count": 5,
     "metadata": {},
     "output_type": "execute_result"
    }
   ],
   "source": [
    "#Multilevel inheritance\n",
    "class class3:\n",
    "    def test_method2(self):\n",
    "        return \"this is second parent class\"\n",
    "    \n",
    "class class4(class3):\n",
    "    def test_method3(self):\n",
    "        return \"this is second child parent class\"\n",
    "    \n",
    "class class5(class4):\n",
    "    def test_method4(self):\n",
    "        pass\n",
    "    \n",
    "obj = class5()\n",
    "obj.test_method2()"
   ]
  },
  {
   "cell_type": "code",
   "execution_count": 6,
   "id": "f2c8a4cc",
   "metadata": {},
   "outputs": [
    {
     "data": {
      "text/plain": [
       "'this is second child parent class'"
      ]
     },
     "execution_count": 6,
     "metadata": {},
     "output_type": "execute_result"
    }
   ],
   "source": [
    "obj.test_method3()"
   ]
  },
  {
   "cell_type": "code",
   "execution_count": 7,
   "id": "423f6aab",
   "metadata": {},
   "outputs": [
    {
     "data": {
      "text/plain": [
       "'this is Parent class 1'"
      ]
     },
     "execution_count": 7,
     "metadata": {},
     "output_type": "execute_result"
    }
   ],
   "source": [
    "#mutliple inheritance\n",
    "class class6:\n",
    "    def test_met(self):\n",
    "        return \"this is Parent class 1\"\n",
    "    \n",
    "class class7:\n",
    "    def test_met1(self):\n",
    "        return \"this is parent class 2\"\n",
    "    \n",
    "class class8(class6, class7):\n",
    "    pass\n",
    "\n",
    "object = class8()\n",
    "object.test_met()"
   ]
  },
  {
   "cell_type": "code",
   "execution_count": 8,
   "id": "88f75d38",
   "metadata": {},
   "outputs": [
    {
     "data": {
      "text/plain": [
       "'this is parent class 2'"
      ]
     },
     "execution_count": 8,
     "metadata": {},
     "output_type": "execute_result"
    }
   ],
   "source": [
    "object.test_met1()"
   ]
  },
  {
   "cell_type": "code",
   "execution_count": 9,
   "id": "ddd21ec9",
   "metadata": {},
   "outputs": [
    {
     "data": {
      "text/plain": [
       "'this is base class'"
      ]
     },
     "execution_count": 9,
     "metadata": {},
     "output_type": "execute_result"
    }
   ],
   "source": [
    "#Hierarchical Inheritance\n",
    "class class9:\n",
    "    def temp(self):\n",
    "        return \"this is base class\"\n",
    "    \n",
    "class class10(class9):\n",
    "    pass\n",
    "\n",
    "class class11(class9):\n",
    "    pass\n",
    "\n",
    "object_tested1 = class10()\n",
    "object_tested2 = class11()\n",
    "object_tested1.temp()"
   ]
  },
  {
   "cell_type": "code",
   "execution_count": 10,
   "id": "24cd0ec6",
   "metadata": {},
   "outputs": [
    {
     "data": {
      "text/plain": [
       "'this is base class'"
      ]
     },
     "execution_count": 10,
     "metadata": {},
     "output_type": "execute_result"
    }
   ],
   "source": [
    "object_tested2.temp()"
   ]
  },
  {
   "cell_type": "code",
   "execution_count": 11,
   "id": "aa0311d7",
   "metadata": {},
   "outputs": [
    {
     "name": "stdout",
     "output_type": "stream",
     "text": [
      "This function is in school.\n",
      "This function is in student 1. \n"
     ]
    }
   ],
   "source": [
    "#Hybrid Inheritance\n",
    "class School:\n",
    "    def func1(self):\n",
    "        print(\"This function is in school.\")\n",
    " \n",
    " \n",
    "class Student1(School):\n",
    "    def func2(self):\n",
    "        print(\"This function is in student 1. \")\n",
    " \n",
    " \n",
    "class Student2(School):\n",
    "    def func3(self):\n",
    "        print(\"This function is in student 2.\")\n",
    " \n",
    " \n",
    "class Student3(Student1, School):\n",
    "    pass\n",
    "\n",
    "object = Student3()\n",
    "object.func1()\n",
    "object.func2()\n",
    "    \n"
   ]
  }
 ],
 "metadata": {
  "kernelspec": {
   "display_name": "Python 3 (ipykernel)",
   "language": "python",
   "name": "python3"
  },
  "language_info": {
   "codemirror_mode": {
    "name": "ipython",
    "version": 3
   },
   "file_extension": ".py",
   "mimetype": "text/x-python",
   "name": "python",
   "nbconvert_exporter": "python",
   "pygments_lexer": "ipython3",
   "version": "3.10.9"
  }
 },
 "nbformat": 4,
 "nbformat_minor": 5
}
